{
 "cells": [
  {
   "cell_type": "markdown",
   "metadata": {},
   "source": [
    "<div align=\"center\">\n",
    "  <h1> EDA in Python</h1>\n",
    "  <a class=\"header-badge\" target=\"_blank\" href=\"https://www.linkedin.com/in/s-ndegwa/\">\n",
    "  <img src=\"https://img.shields.io/badge/style--5eba00.svg?label=LinkedIn&logo=linkedin&style=social\">\n",
    "  </a>\n",
    "  <a class=\"header-badge\" target=\"_blank\" href=\"https://twitter.com/TraplodWahome\">\n",
    "  <img alt=\"Twitter Follow\" src=\"https://img.shields.io/twitter/follow/TraplordWahome?style=social\">\n",
    "  </a>"
   ]
  },
  {
   "cell_type": "markdown",
   "metadata": {},
   "source": [
    "<sub>Author:\n",
    "<a href=\"https://www.linkedin.com/in/s-ndegwa/\" target=\"_blank\">Samuel Ndegwa</a><br>\n",
    "<small>July, 2023</small>\n",
    "</sub>\n",
    "</div>"
   ]
  },
  {
   "cell_type": "markdown",
   "metadata": {},
   "source": [
    "- Exploratory Data Analysis, or EDA for short, is the process of cleaning and reviewing data to derive insights such as descriptive statistics and correlation and generate hypotheses for experiments\n",
    "- EDA results often inform the next steps for the dataset, whether that be generating hypotheses, preparing the data for use in a machine learning model, or even throwing the data out and gathering new data!\n",
    "- We are going to utilize the pandas library to analyze our data"
   ]
  },
  {
   "cell_type": "markdown",
   "metadata": {},
   "source": [
    "## Functions for initial Exploration"
   ]
  },
  {
   "cell_type": "markdown",
   "metadata": {},
   "source": [
    "Import the required python package, in this case pandas as pd."
   ]
  },
  {
   "cell_type": "code",
   "execution_count": 1,
   "metadata": {},
   "outputs": [],
   "source": [
    "import pandas as pd # importing pandas as pd"
   ]
  },
  {
   "cell_type": "markdown",
   "metadata": {},
   "source": [
    "To download the CSV file, what is needed in this example, console/command line is enough:"
   ]
  },
  {
   "cell_type": "code",
   "execution_count": null,
   "metadata": {
    "vscode": {
     "languageId": "shellscript"
    }
   },
   "outputs": [],
   "source": [
    "curl -O https://raw.githubusercontent.com/Asabeneh/30-Days-Of-Python/master/data/weight-height.csv\n"
   ]
  },
  {
   "cell_type": "markdown",
   "metadata": {},
   "source": [
    "**Inspecting a DataFrame**"
   ]
  },
  {
   "cell_type": "markdown",
   "metadata": {},
   "source": [
    "When you get a new DataFrame to work with, the first thing you need to do is explore it and see what it contains. There are several useful methods and attributes for this.<br>\n",
    "\n",
    "- .head() returns the first few rows (the “head” of the DataFrame).\n",
    "- .info() shows information on each of the columns, such as the data type and number of missing values.\n",
    "- .shape returns the number of rows and columns of the DataFrame.\n",
    "- .describe() calculates a few summary statistics for each column."
   ]
  },
  {
   "cell_type": "code",
   "execution_count": null,
   "metadata": {},
   "outputs": [],
   "source": [
    "import pandas as pd\n",
    "\n",
    "df = pd.read_csv('weight-height.csv')\n",
    "print(df)"
   ]
  },
  {
   "cell_type": "markdown",
   "metadata": {},
   "source": [
    "This line prints the DataFrame _df_ to the console. When you run this code, it will display the contents of the CSV file \"weight-height.csv\" in tabular form."
   ]
  },
  {
   "cell_type": "markdown",
   "metadata": {},
   "source": [
    "**Data Exploration**<br>\n",
    "Let us read only the first 5 rows using head()"
   ]
  },
  {
   "cell_type": "code",
   "execution_count": null,
   "metadata": {},
   "outputs": [],
   "source": [
    "print(df.head(10)) # give five rows we can increase the number of rows by passing argument to the head() method"
   ]
  },
  {
   "cell_type": "markdown",
   "metadata": {},
   "source": [
    "- Use a pandas function to print a summary of column non-missing values and data types from the _df_ DataFrame."
   ]
  },
  {
   "cell_type": "code",
   "execution_count": 57,
   "metadata": {},
   "outputs": [
    {
     "name": "stdout",
     "output_type": "stream",
     "text": [
      "<class 'pandas.core.frame.DataFrame'>\n",
      "RangeIndex: 10000 entries, 0 to 9999\n",
      "Data columns (total 3 columns):\n",
      " #   Column  Non-Null Count  Dtype  \n",
      "---  ------  --------------  -----  \n",
      " 0   Gender  10000 non-null  object \n",
      " 1   Height  10000 non-null  float64\n",
      " 2   Weight  10000 non-null  float64\n",
      "dtypes: float64(2), object(1)\n",
      "memory usage: 234.5+ KB\n",
      "None\n"
     ]
    }
   ],
   "source": [
    "print(df.info())"
   ]
  },
  {
   "cell_type": "markdown",
   "metadata": {},
   "source": [
    "**Explanation**<br>\n",
    "The _info()_ function provides a concise summary of the DataFrame, including the number of non-null values in each column and the data types of those columns. It also gives information about the memory usage of the DataFrame."
   ]
  },
  {
   "cell_type": "markdown",
   "metadata": {},
   "source": [
    "- Print the summary statistics (count, mean, standard deviation, min, max, and quartile values) of each numerical column in unemployment."
   ]
  },
  {
   "cell_type": "code",
   "execution_count": null,
   "metadata": {},
   "outputs": [],
   "source": [
    "\n",
    "# Using the describe() function to get the summary statistics of numerical columns\n",
    "summary_stats = df.describe()\n",
    "\n",
    "# Printing the summary statistics\n",
    "print(summary_stats)"
   ]
  },
  {
   "cell_type": "markdown",
   "metadata": {},
   "source": [
    "**Types of Data in Statistics**\n",
    "1. Numerical Data\n",
    "    - This data has a sense of measurement involved in it; for example, a person's age, height, weight, blood pressure, heart rate, temperature, number of teeth, number of bones, and the number of family members. This data is often referred to as quantitative data in statistics. The numerical dataset can be either discrete or continuous types. \n",
    "2. Categorical data: <br>\n",
    "    - This type of data represents the characteristics of an object; for example, gender, marital status, type of address, or categories of the movies. This data is often referred to as qualitative datasets in statistics. To understand clearly, here are some of the most common types of categorical data you can find in data:\n",
    "        - Gender (Male, Female, Other, or Unknown)\n",
    "        - Marital Status (Annulled, Divorced, Interlocutory, Legally Separated, Married, Polygamous, Never Married, Domestic Partner, Unmarried, Widowed, or Unknown)\n",
    "        - Movie genres (Action, Adventure, Comedy, Crime, Drama, Fantasy, Historical, Horror, Mystery, Philosophical, Political, Romance, Saga, Satire, Science Fiction, Social, Thriller, Urban, or Western)\n",
    "        - Blood type (A, B, AB, or O)"
   ]
  },
  {
   "cell_type": "markdown",
   "metadata": {},
   "source": [
    "**Types of measurement scales in statistics**<br>\n",
    "1. Norminal \n",
    "2. Ordinal \n",
    "3. Interval \n",
    "4. Ratio\n",
    "\n"
   ]
  },
  {
   "cell_type": "markdown",
   "metadata": {},
   "source": [
    "**Counting categorical values**<br>\n",
    "You'd now like to explore the categorical data contained in unemployment to understand the data that it contains related to each continent."
   ]
  },
  {
   "cell_type": "code",
   "execution_count": 59,
   "metadata": {},
   "outputs": [
    {
     "name": "stdout",
     "output_type": "stream",
     "text": [
      "Male      5000\n",
      "Female    5000\n",
      "Name: Gender, dtype: int64\n"
     ]
    }
   ],
   "source": [
    "print(df['Gender'].value_counts())"
   ]
  },
  {
   "cell_type": "markdown",
   "metadata": {},
   "source": [
    "**Explanation**<br>\n",
    "The value_counts() function calculates the frequency of unique values in a Series (in this case, the 'Gender' column) and returns a new Series with the counts. The result will show the number of occurrences for each Gender in the 'df' DataFrame."
   ]
  },
  {
   "cell_type": "markdown",
   "metadata": {},
   "source": [
    "**A little bit of Visualization**<br>\n",
    "1. We are going to use our unemployment dataset to view typical unemployment in a given year.\n",
    "    - Our task in this exercise is to create a histogram showing the distribution of global unemployment rates in 2021."
   ]
  },
  {
   "cell_type": "code",
   "execution_count": 74,
   "metadata": {},
   "outputs": [
    {
     "data": {
      "image/png": "[encoded data removed]",
      "text/plain": [
       "<Figure size 640x480 with 1 Axes>"
      ]
     },
     "metadata": {},
     "output_type": "display_data"
    }
   ],
   "source": [
    "#import required python packages\n",
    "import pandas as pd\n",
    "import seaborn as sns\n",
    "import matplotlib.pyplot as plt\n",
    "\n",
    "unemployment = df = pd.read_csv('clean_unemployment.csv')\n",
    "\n",
    "# Create a histogram of 2021 unemployment; show a full percent in each bin\n",
    "sns.histplot(data=unemployment, x=\"2021\", binwidth=1)\n",
    "\n",
    "# Add labels and title\n",
    "plt.ylabel('Frequency')\n",
    "plt.title('Histogram of Unemployment Rate in 2021')\n",
    "plt.show()"
   ]
  },
  {
   "cell_type": "markdown",
   "metadata": {},
   "source": [
    "**Detecting Data types**<br>\n",
    "Let us check the data types in our Unemployment DataFrame"
   ]
  },
  {
   "cell_type": "code",
   "execution_count": null,
   "metadata": {},
   "outputs": [],
   "source": [
    "print(unemployment.info())"
   ]
  },
  {
   "cell_type": "markdown",
   "metadata": {},
   "source": [
    "Change between data types"
   ]
  },
  {
   "cell_type": "code",
   "execution_count": null,
   "metadata": {},
   "outputs": [],
   "source": [
    "#change our 2019 Column data type from float to integer\n",
    "unemployment['2019'] = unemployment['2019'].astype(float)\n",
    "\n",
    "print(unemployment.info())"
   ]
  },
  {
   "cell_type": "markdown",
   "metadata": {},
   "source": [
    "**Data Validation using the _.isin_ function** <br>\n",
    "The _.isin()_ function in Python is a powerful tool used in data validation to check whether elements in a Series or DataFrame column are present in a specified list or another DataFrame column. It returns a boolean Series or DataFrame, indicating whether each element in the Series or DataFrame column is found in the specified list or column."
   ]
  },
  {
   "cell_type": "markdown",
   "metadata": {},
   "source": [
    "**Example:**<br>\n",
    "Using our **unemployment** dataframe, let us identify countries that are not in Oceania. <br>\n",
    "These countries should return True while countries in Oceania should return False. This will set you up to use the results of .isin() to quickly filter out Oceania countries using Boolean indexing.\n",
    "- Define a Series of Booleans describing whether or not each continent is outside of Oceania; call this Series not_oceania."
   ]
  },
  {
   "cell_type": "code",
   "execution_count": null,
   "metadata": {},
   "outputs": [],
   "source": [
    "not_oceania = ~unemployment[\"continent\"].isin([\"Oceania\"])\n",
    "\n",
    "# Print unemployment without records related to countries in Oceania\n",
    "print(unemployment[not_oceania])"
   ]
  },
  {
   "cell_type": "markdown",
   "metadata": {},
   "source": [
    "Summaries with .groupby and .agg\n",
    "These functions are particularly useful when you want to calculate summary statistics for different groups in your dataset."
   ]
  },
  {
   "cell_type": "code",
   "execution_count": null,
   "metadata": {},
   "outputs": [],
   "source": [
    "import pandas as pd\n",
    "\n",
    "df = pd.read_csv('weight-height.csv')\n",
    "##height_weight_summary = df.groupby('Gender')['Weight', 'Height'].agg(['mean', 'std']) --previous way of indexing with multiple keys\n",
    "height_weight_summary = df.groupby('Gender')[['Weight', 'Height']].agg(['mean', 'std'])\n",
    "print(height_weight_summary)"
   ]
  },
  {
   "cell_type": "markdown",
   "metadata": {},
   "source": [
    "**Example 2**<br>\n",
    "Using our unemployment DataFrame;<br>\n",
    "Print the mean and standard deviation of the unemployment rates for each year, grouped by continent."
   ]
  },
  {
   "cell_type": "code",
   "execution_count": null,
   "metadata": {},
   "outputs": [],
   "source": [
    "#Old method\n",
    "print(unemployment.groupby(\"continent\").agg([\"mean\", \"std\"]))"
   ]
  },
  {
   "cell_type": "markdown",
   "metadata": {},
   "source": [
    "Print the mean and standard deviation of the unemployment rates for each year, without grouping."
   ]
  },
  {
   "cell_type": "code",
   "execution_count": null,
   "metadata": {},
   "outputs": [],
   "source": [
    "#import required python packages\n",
    "import pandas as pd\n",
    "\n",
    "unemployment = df = pd.read_csv('clean_unemployment.csv')\n",
    "\n",
    "#get a concise summary of a DataFrame\n",
    "##print(unemployment.info())\n",
    "#drop columns that cannot be aggregated\n",
    "#specify which columns to drop\n",
    "columns_to_exclude = ['country_code', 'country_name']\n",
    "\n",
    "#return a boolean array where True represents the columns that are not in columns_to_exclude\n",
    "inverse_columns = df.loc[:, ~df.columns.isin(columns_to_exclude)]   #we use the .loc[] indexer to select the columns based on the boolean mask.\n",
    "\n",
    "#print the mean and standard deviation of columns that can be aggregated\n",
    "print(inverse_columns.groupby(\"continent\").agg([\"mean\", \"std\"]))\n",
    "\n",
    "\n"
   ]
  },
  {
   "cell_type": "markdown",
   "metadata": {},
   "source": [
    "**Named Aggregation**"
   ]
  },
  {
   "cell_type": "markdown",
   "metadata": {},
   "source": [
    "Sometimes, it's helpful to name new columns when aggregating so that it's clear in the code output what aggregations are being applied and where<br>\n",
    "In this example we are going to:\n",
    "1. Create a DataFrame called continent_summary which shows a row for each continent. The DataFrame columns will contain the mean unemployment rate for each continent in 2021 as well as the standard deviation of the 2021 employment rate.\n",
    "2. Rename the columns"
   ]
  },
  {
   "cell_type": "code",
   "execution_count": null,
   "metadata": {},
   "outputs": [],
   "source": [
    "continent_summary = unemployment.groupby(\"continent\").agg(\n",
    "    # Create the mean_rate_2021 column\n",
    "    mean_rate_2021=(\"2021\", \"mean\"),\n",
    "    # Create the std_rate_2021 column\n",
    "    std_rate_2021=(\"2021\", \"std\")\n",
    ")\n",
    "print(continent_summary)"
   ]
  },
  {
   "cell_type": "markdown",
   "metadata": {},
   "source": [
    "**Explanation**\n",
    "1. **unemployment.groupby(\"continent\"):** This part groups the \"unemployment\" DataFrame by the \"continent\" column, creating separate groups for each unique continent.\n",
    "2. **.agg(...):** The .agg() function is used to perform aggregation on the grouped data.\n",
    "3. **mean_rate_2021=(\"2021\", \"mean\"):** This line creates a new column in the resulting DataFrame called \"mean_rate_2021.\" It calculates the mean of the \"2021\" column within each continent group and stores the result in this new column.\n",
    "4. **std_rate_2021=(\"2021\", \"std\"):** Similarly, this line creates another new column called \"std_rate_2021.\" It calculates the standard deviation of the \"2021\" column within each continent group and stores the result in this new column."
   ]
  },
  {
   "cell_type": "markdown",
   "metadata": {},
   "source": [
    "## Visualizing Categorical Summaries"
   ]
  },
  {
   "cell_type": "markdown",
   "metadata": {},
   "source": [
    "- Seaborn has many great visualizations for exploration, including a bar plot for displaying an aggregated average value by category of data.\n",
    "- In Seaborn, bar plots include a vertical bar indicating the 95% confidence interval for the categorical mean. Since confidence intervals are calculated using both the number of values and the variability of those values, they give a helpful indication of how much data can be relied upon."
   ]
  },
  {
   "cell_type": "code",
   "execution_count": null,
   "metadata": {},
   "outputs": [],
   "source": [
    "#import required python packages\n",
    "import pandas as pd\n",
    "import seaborn as sns\n",
    "import matplotlib.pyplot as plt\n",
    "\n",
    "# Create a bar plot of continents and their 2021 average unemployment\n",
    "sns.barplot(data=unemployment, x=\"continent\", y=\"2021\")\n",
    "plt.show()"
   ]
  },
  {
   "cell_type": "markdown",
   "metadata": {},
   "source": [
    "## Data Manipulation with Pandas"
   ]
  },
  {
   "cell_type": "markdown",
   "metadata": {},
   "source": [
    "**<h3>Sorting rows</h3>**\n",
    "Finding interesting bits of data in a DataFrame is often easier if you change the order of the rows. You can sort the rows by passing a column name to .sort_values().\n",
    "\n",
    "In cases where rows have the same value (this is common if you sort on a categorical variable), you may wish to break the ties by sorting on another column. You can sort on multiple columns in this way by passing a list of column names.\n",
    "\n",
    "Sort on …\tSyntax\n",
    "one column\tdf.sort_values(\"breed\")\n",
    "multiple columns\tdf.sort_values([\"breed\", \"weight_kg\"])\n",
    "\n",
    "| Sort on … | Syntax|\n",
    "|----------|----------|\n",
    "|  one column  | df.sort_values(\"breed\")|\n",
    "|  multiple columns   |  df.sort_values([\"breed\", \"weight_kg\"])   |\n",
    "\n",
    "\n",
    "\n",
    "By combining .sort_values() with .head(), you can answer questions in the form, \"What are the top cases where…?\"."
   ]
  },
  {
   "cell_type": "markdown",
   "metadata": {},
   "source": [
    "**Sorting General Syntax** <br>\n",
    "1. **sort_values():** This method is used to sort the DataFrame by the values of one or more columns. You can sort in ascending or descending order. By default, it sorts in ascending order. <br>\n",
    "    Syntax: df.sort_values(by, ascending=True/False)\n",
    "    - by: Specifies the column(s) to sort by. It can be a single column name or a list of column names if you want to sort by multiple columns.\n",
    "    - ascending: Determines the sorting order. If True, the data will be sorted in ascending order; if False, it will be sorted in descending order.\n",
    "2. **sort_index():** This method is used to sort the DataFrame based on the row index.<br>\n",
    "    Syntax: df.sort_index(axis=0, ascending=True/False)\n",
    "    - axis: Specifies whether to sort the rows (axis=0) or columns (axis=1). The default is axis=0 (sorting rows).\n",
    "    - ascending: Determines the sorting order. If True, the data will be sorted in ascending order of the index; if False, it will be sorted in descending order."
   ]
  },
  {
   "cell_type": "markdown",
   "metadata": {},
   "source": [
    "**Example 1** <br>\n",
    "Sort homelessness by the number of homeless individuals, from smallest to largest, and save this as homelessness_ind.<br>\n",
    "Print the head of the sorted DataFrame."
   ]
  },
  {
   "cell_type": "code",
   "execution_count": 2,
   "metadata": {},
   "outputs": [
    {
     "name": "stdout",
     "output_type": "stream",
     "text": [
      "    Unnamed: 0              region          state  individuals  \\\n",
      "50          50            Mountain        Wyoming        434.0   \n",
      "34          34  West North Central   North Dakota        467.0   \n",
      "7            7      South Atlantic       Delaware        708.0   \n",
      "39          39         New England   Rhode Island        747.0   \n",
      "45          45         New England        Vermont        780.0   \n",
      "29          29         New England  New Hampshire        835.0   \n",
      "41          41  West North Central   South Dakota        836.0   \n",
      "26          26            Mountain        Montana        983.0   \n",
      "48          48      South Atlantic  West Virginia       1021.0   \n",
      "24          24  East South Central    Mississippi       1024.0   \n",
      "\n",
      "    family_members  state_pop  \n",
      "50           205.0     577601  \n",
      "34            75.0     758080  \n",
      "7            374.0     965479  \n",
      "39           354.0    1058287  \n",
      "45           511.0     624358  \n",
      "29           615.0    1353465  \n",
      "41           323.0     878698  \n",
      "26           422.0    1060665  \n",
      "48           222.0    1804291  \n",
      "24           328.0    2981020  \n"
     ]
    }
   ],
   "source": [
    "import pandas as pd\n",
    "\n",
    "homelessness = pd.read_csv('homelessness.csv')\n",
    "\n",
    "# Sort homelessness by individuals\n",
    "homelessness_ind = homelessness.sort_values(\"individuals\")\n",
    "\n",
    "# Print the top few rows\n",
    "print(homelessness_ind.head(10))"
   ]
  },
  {
   "cell_type": "markdown",
   "metadata": {},
   "source": [
    "**Example 2**<br>\n",
    "Sort homelessness by the number of homeless family_members in descending order, and save this as homelessness_fam.<br>\n",
    "Print the head of the sorted DataFrame."
   ]
  },
  {
   "cell_type": "code",
   "execution_count": null,
   "metadata": {},
   "outputs": [],
   "source": [
    "# Sort homelessness by descending family members\n",
    "homelessness_fam = homelessness.sort_values(\"family_members\", ascending=False)\n",
    "\n",
    "# Print the top few rows\n",
    "print(homelessness_fam.head(10))"
   ]
  },
  {
   "cell_type": "markdown",
   "metadata": {},
   "source": [
    "**Example 3**<br>\n",
    "Sort homelessness first by region (ascending), and then by number of family members (descending). Save this as homelessness_reg_fam.<br>\n",
    "Print the head of the sorted DataFrame."
   ]
  },
  {
   "cell_type": "code",
   "execution_count": null,
   "metadata": {},
   "outputs": [],
   "source": [
    "# Sort homelessness by region, then descending family members\n",
    "homelessness_reg_fam = homelessness.sort_values([\"region\", \"family_members\"], ascending=[True, False])\n",
    "\n",
    "# Print the top few rows\n",
    "print(homelessness_reg_fam.head(15))\n",
    "\n",
    "'''Data Structures in Python\n",
    "1. DataFrame\n",
    "2. List\n",
    "3. Tuple\n",
    "4. Dictionary\n",
    "5. Set\n",
    "'''\n"
   ]
  },
  {
   "cell_type": "markdown",
   "metadata": {},
   "source": [
    "**<h3>Subsetting Columns</h3>**\n",
    "In pandas, subsetting columns refers to selecting and extracting specific columns from a DataFrame. <br>\n",
    "When working with data, you may not need all of the columns in your dataset.<br> \n",
    "Square brackets ([]) can be used to select only the columns that matter to you in an order that makes sense to you. To select only \"col_a\" of the DataFrame df, use<br>\n",
    "_df[\"col_a\"]_"
   ]
  },
  {
   "cell_type": "code",
   "execution_count": null,
   "metadata": {},
   "outputs": [],
   "source": [
    "#To select \"col_a\" and \"col_b\" of df, use\n",
    "\n",
    "df[[\"col_a\", \"col_b\"]]"
   ]
  },
  {
   "cell_type": "markdown",
   "metadata": {},
   "source": [
    "**Example 1**<br>\n"
   ]
  },
  {
   "cell_type": "code",
   "execution_count": null,
   "metadata": {},
   "outputs": [],
   "source": [
    "'''Create a DataFrame called individuals that contains only the individuals column of homelessness.\n",
    "Print the head of the result.'''\n",
    "\n",
    "# Select the individuals column\n",
    "individuals = homelessness[\"individuals\"]\n",
    "\n",
    "# Print the head of the result\n",
    "print(individuals)\n",
    "\n",
    "individuals.to_csv('individuals.csv', index=False)"
   ]
  },
  {
   "cell_type": "code",
   "execution_count": 8,
   "metadata": {},
   "outputs": [
    {
     "name": "stdout",
     "output_type": "stream",
     "text": [
      "                  state  family_members\n",
      "0               Alabama           864.0\n",
      "1                Alaska           582.0\n",
      "2               Arizona          2606.0\n",
      "3              Arkansas           432.0\n",
      "4            California         20964.0\n",
      "5              Colorado          3250.0\n",
      "6           Connecticut          1696.0\n",
      "7              Delaware           374.0\n",
      "8  District of Columbia          3134.0\n",
      "9               Florida          9587.0\n"
     ]
    }
   ],
   "source": [
    "'''Create a DataFrame called state_fam that contains only the state and family_members columns of homelessness, in that order.\n",
    "Print the head of the result.'''\n",
    "\n",
    "# Select the state and family_members columns\n",
    "state_fam = homelessness[[\"state\", \"family_members\"]]\n",
    "\n",
    "# Print the head of the result\n",
    "print(state_fam.head(10))\n",
    "\n",
    "#fruits = [\"banana\", \"mango\", \"orange\", \"apple\", \"pineaplle\"]"
   ]
  },
  {
   "cell_type": "code",
   "execution_count": 15,
   "metadata": {},
   "outputs": [
    {
     "name": "stdout",
     "output_type": "stream",
     "text": [
      "   individuals                 state\n",
      "0       2570.0               Alabama\n",
      "1       1434.0                Alaska\n",
      "2       7259.0               Arizona\n",
      "3       2280.0              Arkansas\n",
      "4     109008.0            California\n",
      "5       7607.0              Colorado\n",
      "6       2280.0           Connecticut\n",
      "7        708.0              Delaware\n",
      "8       3770.0  District of Columbia\n",
      "9      21443.0               Florida\n"
     ]
    }
   ],
   "source": [
    "'''Create a DataFrame called ind_state that contains the individuals and state columns of homelessness, in that order.\n",
    "Print the head of the result.'''\n",
    "\n",
    "# Select only the individuals and state columns, in that order\n",
    "ind_state = homelessness[[\"individuals\", \"state\"]]\n",
    "\n",
    "# Print the head of the result\n",
    "print(ind_state.head(10))"
   ]
  },
  {
   "cell_type": "markdown",
   "metadata": {},
   "source": [
    "**<h2>Subsetting rows</h2>**<br>\n",
    "A large part of data science is about finding which bits of your dataset are interesting. One of the simplest techniques for this is to find a subset of rows that match some criteria. This is sometimes known as filtering rows or selecting rows.\n"
   ]
  },
  {
   "cell_type": "markdown",
   "metadata": {},
   "source": [
    "**How to subset rows in Pandas**\n",
    "1. Using Boolean Indexing\n",
    "2. Using the _isin()_ method\n",
    "3. Using the _query()_ method\n",
    "4. Using the _loc_ or _iloc_ accessor"
   ]
  },
  {
   "cell_type": "markdown",
   "metadata": {},
   "source": [
    "The most common is to use relational operators to return True or False for each row, then pass that inside square brackets as shown below"
   ]
  },
  {
   "cell_type": "code",
   "execution_count": null,
   "metadata": {},
   "outputs": [],
   "source": [
    "dogs[dogs[\"height_cm\"] > 60]\n",
    "\n",
    "dogs[dogs[\"color\"] == \"tan\"]\n",
    "\n"
   ]
  },
  {
   "cell_type": "markdown",
   "metadata": {},
   "source": [
    "**<h4>Substet rows using Boolean Indexing</h2>**\n",
    "You can filter for multiple conditions at once by using the \"bitwise and\" operator, &."
   ]
  },
  {
   "cell_type": "code",
   "execution_count": null,
   "metadata": {},
   "outputs": [],
   "source": [
    "dogs[(dogs[\"height_cm\"] > 60) & (dogs[\"color\"] == \"tan\")]"
   ]
  },
  {
   "cell_type": "markdown",
   "metadata": {},
   "source": [
    "**Example 1**"
   ]
  },
  {
   "cell_type": "code",
   "execution_count": 23,
   "metadata": {},
   "outputs": [
    {
     "name": "stdout",
     "output_type": "stream",
     "text": [
      "    Unnamed: 0              region       state  individuals  family_members  \\\n",
      "4            4             Pacific  California     109008.0         20964.0   \n",
      "9            9      South Atlantic     Florida      21443.0          9587.0   \n",
      "32          32        Mid-Atlantic    New York      39827.0         52070.0   \n",
      "37          37             Pacific      Oregon      11139.0          3337.0   \n",
      "43          43  West South Central       Texas      19199.0          6111.0   \n",
      "47          47             Pacific  Washington      16424.0          5880.0   \n",
      "\n",
      "    state_pop  \n",
      "4    39461588  \n",
      "9    21244317  \n",
      "32   19530351  \n",
      "37    4181886  \n",
      "43   28628666  \n",
      "47    7523869  \n"
     ]
    }
   ],
   "source": [
    "'''Filter homelessness for cases where the number of individuals is greater than ten thousand, assigning to ind_gt_10k. \n",
    "View the printed result.'''\n",
    "\n",
    "# Filter for rows where individuals is greater than 10000\n",
    "#ind_gt_10k = homelessness[homelessness[\"individuals\"] > 10000]\n",
    "ind_fam_gt_10k = homelessness[(homelessness[\"individuals\"] > 10000) & (homelessness[\"family_members\"] > 2000)]\n",
    "\n",
    "# See the result\n",
    "print(ind_fam_gt_10k)\n",
    "\n",
    "ind_fam_gt_10k.to_csv('ind_fam_gt_10k.csv', index=False)\n"
   ]
  },
  {
   "cell_type": "markdown",
   "metadata": {},
   "source": [
    "**Example 2**"
   ]
  },
  {
   "cell_type": "code",
   "execution_count": 24,
   "metadata": {},
   "outputs": [
    {
     "name": "stdout",
     "output_type": "stream",
     "text": [
      "    Unnamed: 0    region       state  individuals  family_members  state_pop\n",
      "2            2  Mountain     Arizona       7259.0          2606.0    7158024\n",
      "5            5  Mountain    Colorado       7607.0          3250.0    5691287\n",
      "12          12  Mountain       Idaho       1297.0           715.0    1750536\n",
      "26          26  Mountain     Montana        983.0           422.0    1060665\n",
      "28          28  Mountain      Nevada       7058.0           486.0    3027341\n",
      "31          31  Mountain  New Mexico       1949.0           602.0    2092741\n",
      "44          44  Mountain        Utah       1904.0           972.0    3153550\n",
      "50          50  Mountain     Wyoming        434.0           205.0     577601\n"
     ]
    }
   ],
   "source": [
    "'''\n",
    "Filter homelessness for cases where the USA Census region is \"Mountain\", assigning to mountain_reg. \n",
    "View the printed result.'''\n",
    "\n",
    "# Filter for rows where region is Mountain\n",
    "mountain_reg = homelessness[homelessness[\"region\"] == \"Mountain\"]\n",
    "\n",
    "# See the result\n",
    "print(mountain_reg)\n",
    "\n",
    "mountain_reg.to_csv('mountain_reg.csv', index=False)"
   ]
  },
  {
   "cell_type": "markdown",
   "metadata": {},
   "source": [
    "**Example 3**"
   ]
  },
  {
   "cell_type": "code",
   "execution_count": 25,
   "metadata": {},
   "outputs": [
    {
     "name": "stdout",
     "output_type": "stream",
     "text": [
      "   Unnamed: 0   region   state  individuals  family_members  state_pop\n",
      "1           1  Pacific  Alaska       1434.0           582.0     735139\n"
     ]
    }
   ],
   "source": [
    "'''Filter homelessness for cases where the number of family_members is less than one thousand and the region is \"Pacific\", assigning to fam_lt_1k_pac. \n",
    "View the printed result.'''\n",
    "# Filter for rows where family_members is less than 1000 \n",
    "# and region is Pacific\n",
    "fam_lt_1k_pac = homelessness[(homelessness[\"family_members\"] < 1000) & (homelessness[\"region\"] == \"Pacific\")]\n",
    "\n",
    "# See the result\n",
    "print(fam_lt_1k_pac)\n",
    "\n",
    "fam_lt_1k_pac.to_csv('fam_lt_1k_pac.csv', index=False)"
   ]
  },
  {
   "cell_type": "markdown",
   "metadata": {},
   "source": [
    "**<h4>Subset rows by using .isin() method</h4>**<br>\n",
    "You can use the isin() method to filter rows based on whether their values are present in a specified list."
   ]
  },
  {
   "cell_type": "markdown",
   "metadata": {},
   "source": [
    "**Example 1**"
   ]
  },
  {
   "cell_type": "code",
   "execution_count": null,
   "metadata": {},
   "outputs": [],
   "source": [
    "'''\n",
    "Filter homelessness for cases where the USA census region is \"South Atlantic\" or it is \"Mid-Atlantic\", assigning to south_mid_atlantic. \n",
    "View the printed result.'''\n",
    "\n",
    "# Subset for rows in South Atlantic or Mid-Atlantic regions\n",
    "south_mid_atlantic = homelessness[(homelessness[\"region\"] == \"South Atlantic\") | (homelessness[\"region\"] == \"Mid-Atlantic\")]\n",
    "\n",
    "# See the result\n",
    "print(south_mid_atlantic)\n"
   ]
  },
  {
   "cell_type": "markdown",
   "metadata": {},
   "source": [
    "**Explanation**<br>\n",
    "1. **homelessness[\"region\"] == \"South Atlantic\":** This is a boolean expression that creates a boolean Series with True for rows where the value in the \"region\" column is equal to \"South Atlantic\" and False for all other rows.\n",
    "2. **homelessness[\"region\"] == \"Mid-Atlantic\":** Similarly, this boolean expression creates another boolean Series with True for rows where the value in the \"region\" column is equal to \"Mid-Atlantic\" and False for all other rows.\n",
    "3. **(homelessness[\"region\"] == \"South Atlantic\") | (homelessness[\"region\"] == \"Mid-Atlantic\"):** The | operator performs element-wise OR operation between the two boolean Series created above. It results in a new boolean Series where each element represents the result of the OR operation for the corresponding rows.\n",
    "4. **homelessness[(...) | (...)]:** This syntax uses the boolean Series from the previous step to subset the rows in the \"homelessness\" DataFrame. It selects rows where either of the conditions is True, meaning rows where the \"region\" is either \"South Atlantic\" or \"Mid-Atlantic.\"\n",
    "5. **south_mid_atlantic:** The result of the above subsetting operation is assigned to a new DataFrame called \"south_mid_atlantic,\" which contains only the rows from the \"homelessness\" DataFrame where the region is \"South Atlantic\" or \"Mid-Atlantic.\"\n",
    "6. The code then prints the \"south_mid_atlantic\" DataFrame, which will display only the rows from the original \"homelessness\" DataFrame where the region is either \"South Atlantic\" or \"Mid-Atlantic.\" This allows you to focus on and analyze data related to these specific regions."
   ]
  },
  {
   "cell_type": "markdown",
   "metadata": {},
   "source": [
    "**Example 2**"
   ]
  },
  {
   "cell_type": "code",
   "execution_count": 16,
   "metadata": {},
   "outputs": [
    {
     "name": "stdout",
     "output_type": "stream",
     "text": [
      "    Unnamed: 0    region       state  individuals  family_members  state_pop\n",
      "2            2  Mountain     Arizona       7259.0          2606.0    7158024\n",
      "4            4   Pacific  California     109008.0         20964.0   39461588\n",
      "28          28  Mountain      Nevada       7058.0           486.0    3027341\n",
      "44          44  Mountain        Utah       1904.0           972.0    3153550\n"
     ]
    }
   ],
   "source": [
    "'''Filter homelessness for cases where the USA census state is in the list of Mojave states, canu, assigning to mojave_homelessness. \n",
    "View the printed result.'''\n",
    "import pandas as pd\n",
    "import matplotlib.pyplot as plt\n",
    "\n",
    "homelessness = pd.read_csv(\"homelessness.csv\")\n",
    "\n",
    "# The Mojave Desert states\n",
    "mojave_states = [\"California\", \"Arizona\", \"Nevada\", \"Utah\"]\n",
    "\n",
    "# Filter for rows in the Mojave Desert states\n",
    "mojave_homelessness = homelessness[homelessness[\"state\"].isin(mojave_states)]\n",
    "\n",
    "# See the result\n",
    "print(mojave_homelessness)\n"
   ]
  },
  {
   "cell_type": "markdown",
   "metadata": {},
   "source": [
    "**<h4>Adding new Columns</h4>**\n",
    "You can create new columns from scratch, but it is also common to derive them from other columns, for example, by adding columns together or by changing their units.<br>\n",
    "This is called transformation or feature engineering"
   ]
  },
  {
   "cell_type": "markdown",
   "metadata": {},
   "source": [
    "**Example 1**"
   ]
  },
  {
   "cell_type": "code",
   "execution_count": 19,
   "metadata": {},
   "outputs": [
    {
     "name": "stdout",
     "output_type": "stream",
     "text": [
      "   Unnamed: 0              region       state  individuals  family_members  \\\n",
      "0           0  East South Central     Alabama       2570.0           864.0   \n",
      "1           1             Pacific      Alaska       1434.0           582.0   \n",
      "2           2            Mountain     Arizona       7259.0          2606.0   \n",
      "3           3  West South Central    Arkansas       2280.0           432.0   \n",
      "4           4             Pacific  California     109008.0         20964.0   \n",
      "\n",
      "   state_pop     total  p_individuals  \n",
      "0    4887681    3434.0      74.839837  \n",
      "1     735139    2016.0      71.130952  \n",
      "2    7158024    9865.0      73.583376  \n",
      "3    3009733    2712.0      84.070796  \n",
      "4   39461588  129972.0      83.870372  \n"
     ]
    }
   ],
   "source": [
    "'''Add a new column to homelessness, named total, containing the sum of the individuals and family_members columns.'''\n",
    "\n",
    "# Add total col as sum of individuals and family_members\n",
    "homelessness[\"total\"] = homelessness[\"individuals\"] + homelessness[\"family_members\"]\n",
    "\n",
    "'''Add another column to homelessness, named p_individuals, containing the proportion of homeless people in each state who are individuals.'''\n",
    "\n",
    "# Add p_individuals col as proportion of total that are individuals\n",
    "homelessness[\"p_individuals\"] = (homelessness[\"individuals\"] / homelessness[\"total\"]) * 100\n",
    "\n",
    "# See the result\n",
    "print(homelessness.head())\n",
    "\n"
   ]
  },
  {
   "cell_type": "markdown",
   "metadata": {},
   "source": [
    "**What we have learnt**\n",
    "1. Sorting rows\n",
    "2. Subsetting columns\n",
    "3. Subsetting rows\n",
    "4. Adding new columns"
   ]
  },
  {
   "cell_type": "markdown",
   "metadata": {},
   "source": [
    "**Exercise**<br>\n",
    "You will answer the question \" Which state has the highest number of homeless individuals per 10,000 people in the state?\"<br><br>\n",
    "    **Instructions**<br>\n",
    "- Add a column to homelessness, indiv_per_10k, containing the number of homeless individuals per ten thousand people in each state.\n",
    "- Subset rows where indiv_per_10k is higher than 20, assigning to high_homelessness.\n",
    "- Sort high_homelessness by descending indiv_per_10k, assigning to high_homelessness_srt.\n",
    "- Select only the state and indiv_per_10k columns of high_homelessness_srt and save as result. Look at the result."
   ]
  },
  {
   "cell_type": "markdown",
   "metadata": {},
   "source": [
    "**<h3>Summary Statistics</h3>**<br>\n",
    "Summary statistics are exactly what they sound like - they summarize many numbers in one statistic.<br>\n",
    "For example, mean, median, minimum, maximum, and standard deviation are summary statistics.<br>\n",
    " Calculating summary statistics allows you to get a better sense of your data, even if there's a lot of it."
   ]
  },
  {
   "cell_type": "code",
   "execution_count": 35,
   "metadata": {},
   "outputs": [
    {
     "name": "stdout",
     "output_type": "stream",
     "text": [
      "23843.950148505668\n",
      "12049.064999999999\n"
     ]
    }
   ],
   "source": [
    "import pandas as pd\n",
    "\n",
    "sales = pd.read_csv('sales_subset.csv')\n",
    "\n",
    "#print(sales.info())\n",
    "\n",
    "# Print the mean of weekly_sales\n",
    "\n",
    "print(sales[\"weekly_sales\"].mean())\n",
    "\n",
    "# Print the median of weekly_sales\n",
    "\n",
    "print(sales[\"weekly_sales\"].median())"
   ]
  },
  {
   "cell_type": "markdown",
   "metadata": {},
   "source": [
    "**Summarizing dates**<br>\n",
    "Summary statistics can also be calculated on date columns that have values with the data type datetime64.<br>\n",
    " Some summary statistics — like mean — don't make a ton of sense on dates, but others are super helpful, for example, minimum and maximum, which allow you to see what time range your data covers."
   ]
  },
  {
   "cell_type": "code",
   "execution_count": null,
   "metadata": {},
   "outputs": [],
   "source": [
    "#Syntax\n",
    "\n",
    "import pandas as pd\n",
    "\n",
    "# Assuming you have a DataFrame named df\n",
    "\n",
    "# To find the maximum value in a specific column\n",
    "max_value_column = df['column_name'].max()\n",
    "\n",
    "# To find the minimum value in a specific column\n",
    "min_value_column = df['column_name'].min()\n",
    "\n",
    "print(\"Maximum value in column:\", max_value_column)\n",
    "print(\"Minimum value in column:\", min_value_column)\n"
   ]
  },
  {
   "cell_type": "code",
   "execution_count": null,
   "metadata": {},
   "outputs": [],
   "source": [
    "# Print the maximum of the date column\n",
    "print(sales[\"date\"].max())\n",
    "\n",
    "# Print the minimum of the date column\n",
    "print(sales[\"date\"].min())"
   ]
  },
  {
   "cell_type": "code",
   "execution_count": 11,
   "metadata": {},
   "outputs": [
    {
     "name": "stdout",
     "output_type": "stream",
     "text": [
      "The state with the highest population is: California\n",
      "The region with the highest population is: Pacific\n"
     ]
    }
   ],
   "source": [
    "import pandas as pd\n",
    "import matplotlib.pyplot as plt\n",
    "\n",
    "homelessness = pd.read_csv('homelessness.csv')\n",
    "#print the head\n",
    "highest_population_row = homelessness.nlargest(1, 'state_pop')\n",
    "\n",
    "highest_population_state = highest_population_row['state'].values[0]\n",
    "highest_population_region = highest_population_row['region'].values[0]\n",
    "\n",
    "print(f\"The state with the highest population is: {highest_population_state}\")\n",
    "print(f\"The region with the highest population is: {highest_population_region}\")"
   ]
  },
  {
   "cell_type": "markdown",
   "metadata": {},
   "source": [
    "**Dropping duplicates**<br>\n",
    "Removing duplicates is an essential skill to get accurate counts because often, you don't want to count the same thing multiple times. <br>\n",
    "In Pandas, you can use the drop_duplicates() function to remove duplicate rows from a DataFrame.<br>\n",
    " This function keeps the first occurrence of each duplicate row by default. Let's see some examples:"
   ]
  },
  {
   "cell_type": "code",
   "execution_count": null,
   "metadata": {},
   "outputs": [],
   "source": [
    "#Dropping duplicates from a DataFrame with all columns\n",
    "\n",
    "# Drop duplicates and keep the first occurrence\n",
    "sales_no_duplicates = sales.drop_duplicates()\n",
    "\n",
    "# Display the DataFrame after removing duplicates\n",
    "print(\"\\nDataFrame after dropping duplicates:\")\n",
    "print(sales_no_duplicates)"
   ]
  },
  {
   "cell_type": "code",
   "execution_count": null,
   "metadata": {},
   "outputs": [],
   "source": [
    "'''Dropping duplicates based on specific columns;\n",
    "\n",
    "1. Remove rows of sales with duplicate pairs of store and type and save as store_types and print the head.'''\n",
    "\n",
    "# Drop duplicate store/type combinations\n",
    "store_types = sales.drop_duplicates(subset=[\"store\", \"type\"])\n",
    "print(store_types.head())\n",
    "\n",
    "'''2. Remove rows of sales with duplicate pairs of store and department and save as store_depts and print the head.'''\n",
    "\n",
    "# Drop duplicate store/department combinations\n",
    "store_depts = sales.drop_duplicates(subset=[\"store\", \"department\"])\n",
    "print(store_depts.head())\n",
    "\n",
    "'''\n",
    "3. Subset the rows that are holiday weeks using the is_holiday column, and drop the duplicate dates, saving as holiday_dates.'''\n",
    "\n",
    "# Subset the rows where is_holiday is True and drop duplicate dates\n",
    "holiday_dates = sales[sales[\"is_holiday\"]].drop_duplicates(subset=\"date\")\n",
    "\n",
    "'''\n",
    "4. Select the date column of holiday_dates, and print.'''\n",
    "\n",
    "# Print date col of holiday_dates\n",
    "print(holiday_dates[\"date\"])"
   ]
  },
  {
   "cell_type": "code",
   "execution_count": null,
   "metadata": {},
   "outputs": [],
   "source": [
    "holiday_dates = sales[sales[\"is_holiday\"]].drop_duplicates(subset=\"date\")\n",
    "print(holiday_dates[\"date\"])"
   ]
  },
  {
   "cell_type": "code",
   "execution_count": null,
   "metadata": {},
   "outputs": [],
   "source": [
    "# Drop duplicate store/type combinations\n",
    "store_types = sales.drop_duplicates(subset=[\"store\", \"type\"])\n",
    "print(store_types.head())"
   ]
  },
  {
   "cell_type": "markdown",
   "metadata": {},
   "source": [
    "**Counting Categorical Variables**<br>\n",
    "In Python, you can count categorical variables using the Pandas library, which provides the value_counts() function.<br> \n",
    "This function is particularly useful when working with DataFrames and Series to count the occurrences of unique categorical values"
   ]
  },
  {
   "cell_type": "code",
   "execution_count": 5,
   "metadata": {},
   "outputs": [
    {
     "name": "stdout",
     "output_type": "stream",
     "text": [
      "A    11\n",
      "B     1\n",
      "Name: type, dtype: int64\n"
     ]
    }
   ],
   "source": [
    "# Count the number of stores of each type\n",
    "store_counts = store_types[\"type\"].value_counts()\n",
    "\n",
    "print(store_counts)"
   ]
  },
  {
   "cell_type": "code",
   "execution_count": 4,
   "metadata": {},
   "outputs": [
    {
     "name": "stdout",
     "output_type": "stream",
     "text": [
      "A    0.916667\n",
      "B    0.083333\n",
      "Name: type, dtype: float64\n"
     ]
    }
   ],
   "source": [
    "# Get the proportion of stores of each type\n",
    "store_props = store_types[\"type\"].value_counts(normalize=True)\n",
    "\n",
    "print(store_props)"
   ]
  },
  {
   "cell_type": "code",
   "execution_count": null,
   "metadata": {},
   "outputs": [],
   "source": [
    "# Count the number of each department number and sort\n",
    "dept_counts_sorted = store_depts[\"department\"].value_counts(sort=True)\n",
    "\n",
    "print(dept_counts_sorted)"
   ]
  },
  {
   "cell_type": "code",
   "execution_count": null,
   "metadata": {
    "notebookRunGroups": {
     "groupValue": "1"
    }
   },
   "outputs": [],
   "source": [
    "# Get the proportion of departments of each number and sort\n",
    "dept_props_sorted = store_depts[\"department\"].value_counts(ascending=True, normalize=True)\n",
    "print(dept_props_sorted)\n",
    "\n"
   ]
  },
  {
   "cell_type": "markdown",
   "metadata": {},
   "source": [
    "**Grouped Summaries**<br>\n",
    "In Python, you can create grouped summaries of data using the Pandas library.<br>\n",
    "Grouped summaries involve splitting the data into groups based on certain criteria and then applying summary functions (such as mean, sum, count, etc.) to each group.<br>\n",
    " Pandas provides the groupby() function to achieve this"
   ]
  },
  {
   "cell_type": "code",
   "execution_count": 38,
   "metadata": {},
   "outputs": [
    {
     "name": "stdout",
     "output_type": "stream",
     "text": [
      "256894718.89999998\n"
     ]
    }
   ],
   "source": [
    "'''Calculate the total weekly_sales over the whole dataset.'''\n",
    "# Calc total weekly sales\n",
    "sales_all = sales[\"weekly_sales\"].sum()\n",
    "print(sales_all)\n"
   ]
  },
  {
   "cell_type": "code",
   "execution_count": 40,
   "metadata": {},
   "outputs": [
    {
     "name": "stdout",
     "output_type": "stream",
     "text": [
      "233716315.01\n"
     ]
    }
   ],
   "source": [
    "'''Subset for type \"A\" stores, and calculate their total weekly sales'''\n",
    "\n",
    "# Subset for type A stores, calc total weekly sales\n",
    "sales_A = sales[sales[\"type\"] == \"A\"][\"weekly_sales\"].sum()\n",
    "\n",
    "print(sales_A)"
   ]
  },
  {
   "cell_type": "code",
   "execution_count": 41,
   "metadata": {},
   "outputs": [
    {
     "name": "stdout",
     "output_type": "stream",
     "text": [
      "23178403.89\n"
     ]
    }
   ],
   "source": [
    "'''Do the same for type \"B\" and type \"C\" stores.'''\n",
    "\n",
    "# Subset for type B stores, calc total weekly sales\n",
    "sales_B = sales[sales[\"type\"] == \"B\"][\"weekly_sales\"].sum()\n",
    "\n",
    "print(sales_B)"
   ]
  },
  {
   "cell_type": "code",
   "execution_count": 42,
   "metadata": {},
   "outputs": [
    {
     "name": "stdout",
     "output_type": "stream",
     "text": [
      "0.0\n"
     ]
    }
   ],
   "source": [
    "'''Do the same for type \"B\" and type \"C\" stores.'''\n",
    "\n",
    "# Subset for type C stores, calc total weekly sales\n",
    "sales_C = sales[sales[\"type\"] == \"C\"][\"weekly_sales\"].sum()\n",
    "print(sales_C)"
   ]
  },
  {
   "cell_type": "code",
   "execution_count": 43,
   "metadata": {},
   "outputs": [
    {
     "name": "stdout",
     "output_type": "stream",
     "text": [
      "[0.9097747 0.0902253 0.       ]\n"
     ]
    }
   ],
   "source": [
    "'''Combine the A/B/C results into a list, and divide by sales_all to get the proportion of sales by type.\n",
    "'''\n",
    "\n",
    "# Get proportion for each type\n",
    "sales_propn_by_type = [sales_A, sales_B, sales_C] / sales_all\n",
    "print(sales_propn_by_type)\n",
    "\n"
   ]
  },
  {
   "cell_type": "code",
   "execution_count": 44,
   "metadata": {},
   "outputs": [
    {
     "name": "stdout",
     "output_type": "stream",
     "text": [
      "type\n",
      "A    2.337163e+08\n",
      "B    2.317840e+07\n",
      "Name: weekly_sales, dtype: float64\n"
     ]
    }
   ],
   "source": [
    "'''Group sales by \"type\", take the sum of \"weekly_sales\", and store as sales_by_type.'''\n",
    "\n",
    "# Group by type; calc total weekly sales\n",
    "sales_by_type = sales.groupby(\"type\")[\"weekly_sales\"].sum()\n",
    "\n",
    "print(sales_by_type)"
   ]
  },
  {
   "cell_type": "code",
   "execution_count": 45,
   "metadata": {},
   "outputs": [
    {
     "name": "stdout",
     "output_type": "stream",
     "text": [
      "type\n",
      "A    0.909775\n",
      "B    0.090225\n",
      "Name: weekly_sales, dtype: float64\n"
     ]
    }
   ],
   "source": [
    "'''Calculate the proportion of sales at each store type by dividing by the sum of sales_by_type. Assign to sales_propn_by_type.\n",
    "'''\n",
    "\n",
    "# Get proportion for each type\n",
    "sales_propn_by_type = sales_by_type / sum(sales_by_type)\n",
    "print(sales_propn_by_type)"
   ]
  },
  {
   "cell_type": "code",
   "execution_count": null,
   "metadata": {},
   "outputs": [],
   "source": [
    "'''Group sales by \"type\" and \"is_holiday\", take the sum of weekly_sales, and store as sales_by_type_is_holiday.'''\n",
    "\n",
    "# Group by type and is_holiday; calc total weekly sales\n",
    "sales_by_type_is_holiday = sales.groupby([\"type\", \"is_holiday\"])[\"weekly_sales\"].sum()\n",
    "print(sales_by_type_is_holiday)"
   ]
  },
  {
   "cell_type": "code",
   "execution_count": 47,
   "metadata": {},
   "outputs": [
    {
     "name": "stdout",
     "output_type": "stream",
     "text": [
      "Grouped summary:\n",
      "               mean  sum  max\n",
      "Category                     \n",
      "A         13.500000   54   17\n",
      "B         22.666667   68   30\n",
      "C         23.500000   47   25\n"
     ]
    }
   ],
   "source": [
    "'''Grouped summary using multiple summary functions'''\n",
    "\n",
    "import pandas as pd\n",
    "\n",
    "# Sample DataFrame\n",
    "data = {\n",
    "    'Category': ['A', 'B', 'A', 'C', 'B', 'A', 'B', 'C', 'A'],\n",
    "    'Value': [10, 20, 15, 25, 30, 12, 18, 22, 17]\n",
    "}\n",
    "\n",
    "df = pd.DataFrame(data)\n",
    "\n",
    "# Group by 'Category' and calculate the mean, sum, and maximum of 'Value' for each group\n",
    "grouped_summary = df.groupby('Category')['Value'].agg(['mean', 'sum', 'max'])\n",
    "\n",
    "print(\"Grouped summary:\")\n",
    "print(grouped_summary)\n"
   ]
  },
  {
   "cell_type": "markdown",
   "metadata": {},
   "source": [
    "**Indexing in Pandas**<br>\n",
    "\n",
    "Indexing in Pandas refers to the process of selecting subsets of data from a DataFrame or Series.<br>\n",
    "Pandas provides various methods for indexing, allowing you to access specific rows, columns, or individual elements based on different criteria"
   ]
  },
  {
   "cell_type": "markdown",
   "metadata": {},
   "source": [
    "**Setting and removing indexes**<br>\n",
    "pandas allows you to designate columns as an index. This enables cleaner code when taking subsets (as well as providing more efficient lookup under some circumstances)."
   ]
  },
  {
   "cell_type": "code",
   "execution_count": null,
   "metadata": {},
   "outputs": [],
   "source": [
    "import pandas as pd \n",
    "temperatures = pd.read_csv('temperatures.csv')\n",
    "\n",
    "# Look at temperatures\n",
    "\n",
    "print(temperatures)\n",
    "print(temperatures.head())\n"
   ]
  },
  {
   "cell_type": "code",
   "execution_count": null,
   "metadata": {},
   "outputs": [],
   "source": [
    "# Set the index of temperatures to city\n",
    "temperatures_ind = temperatures.set_index(\"city\")\n",
    "\n",
    "# Look at temperatures_ind\n",
    "print(temperatures_ind)"
   ]
  },
  {
   "cell_type": "code",
   "execution_count": 54,
   "metadata": {},
   "outputs": [
    {
     "name": "stdout",
     "output_type": "stream",
     "text": [
      "          city  Unnamed: 0        date        country  avg_temp_c\n",
      "0      Abidjan           0  2000-01-01  Côte D'Ivoire      27.293\n",
      "1      Abidjan           1  2000-02-01  Côte D'Ivoire      27.685\n",
      "2      Abidjan           2  2000-03-01  Côte D'Ivoire      29.061\n",
      "3      Abidjan           3  2000-04-01  Côte D'Ivoire      28.162\n",
      "4      Abidjan           4  2000-05-01  Côte D'Ivoire      27.547\n",
      "...        ...         ...         ...            ...         ...\n",
      "16495     Xian       16495  2013-05-01          China      18.979\n",
      "16496     Xian       16496  2013-06-01          China      23.522\n",
      "16497     Xian       16497  2013-07-01          China      25.251\n",
      "16498     Xian       16498  2013-08-01          China      24.528\n",
      "16499     Xian       16499  2013-09-01          China         NaN\n",
      "\n",
      "[16500 rows x 5 columns]\n"
     ]
    }
   ],
   "source": [
    "# Reset the temperatures_ind index, keeping its contents\n",
    "print(temperatures_ind.reset_index())"
   ]
  },
  {
   "cell_type": "code",
   "execution_count": null,
   "metadata": {},
   "outputs": [],
   "source": [
    "# Reset the temperatures_ind index, dropping its contents\n",
    "print(temperatures_ind.reset_index(drop=True))"
   ]
  },
  {
   "cell_type": "markdown",
   "metadata": {},
   "source": [
    "**Subsetting with .loc[]**<br>\n",
    ".loc[] is used for label-based indexing.<br>\n",
    "This method accepts indexes as values\n",
    "- When you pass it a single argument, it will take a subset of rows.\n",
    "- The code for subsetting using .loc[] can be easier to read than standard square bracket subsetting, which can make your code less burdensome to maintain."
   ]
  },
  {
   "cell_type": "code",
   "execution_count": null,
   "metadata": {},
   "outputs": [],
   "source": [
    "import pandas as pd\n",
    "\n",
    "# Sample DataFrame\n",
    "data = {\n",
    "    'Name': ['Alice', 'Bob', 'Charlie', 'David'],\n",
    "    'Age': [25, 30, 35, 40],\n",
    "    'City': ['New York', 'Los Angeles', 'Chicago', 'Houston']\n",
    "}\n",
    "\n",
    "df = pd.DataFrame(data)\n",
    "print(df)\n",
    "\n",
    "# Label-based indexing: Access row by label (index) and column name\n",
    "print(df.loc[1, 'Name'])  # Output: Bob\n",
    "\n",
    "# Integer-based indexing: Access row by integer position and column name\n",
    "print(df.iloc[1, 0])  # Output: Bob\n",
    "\n",
    "# Slicing with .loc[] and .iloc[]\n",
    "print(df.loc[1:2, 'Name':'Age'])  # Output: Bob and Charlie rows with 'Name' and 'Age' columns\n",
    "print(df.iloc[1:3, 0:2])  # Output: Bob and Charlie rows with 'Name' and 'Age' columns\n"
   ]
  },
  {
   "cell_type": "code",
   "execution_count": null,
   "metadata": {},
   "outputs": [],
   "source": [
    "print(df.loc[1:2, 'Name':'Age'])"
   ]
  },
  {
   "cell_type": "code",
   "execution_count": null,
   "metadata": {},
   "outputs": [],
   "source": [
    "print(df.iloc[1:3, 0:2])"
   ]
  },
  {
   "cell_type": "code",
   "execution_count": null,
   "metadata": {},
   "outputs": [],
   "source": [
    "# Label-based indexing: Access row by label (index) and column name\n",
    "print(df.loc[1, 'Name'])  # Output: Bob"
   ]
  },
  {
   "cell_type": "code",
   "execution_count": null,
   "metadata": {},
   "outputs": [],
   "source": [
    "import pandas as pd\n",
    "homelessness = pd.read_csv('homelessness.csv')\n",
    "#print(homelessness.head())\n",
    "\n",
    "homelessness_2 = homelessness.iloc[1:6, 1:4]\n",
    "print(homelessness_2)\n",
    "\n"
   ]
  },
  {
   "cell_type": "code",
   "execution_count": null,
   "metadata": {},
   "outputs": [],
   "source": [
    "import pandas as pd\n",
    "ng = pd.read_csv('ng2.csv', sep=',', skiprows=1)\n",
    "\n",
    "print(ng.head())\n",
    "\n",
    "ng_removed = ng.drop(ng.index[0:6])\n",
    "print(ng_removed)\n",
    "\n",
    "import pandas as pd\n",
    "\n",
    "#import your first csv\n",
    "#import your second csv\n",
    "#subset your first dataframe\n",
    "#subset your second dataframe\n",
    "\n",
    "#combined_dataframe = pd.concat([df1, df2], axis=1)"
   ]
  },
  {
   "cell_type": "markdown",
   "metadata": {},
   "source": [
    "## Data Visualization In Python using Matplotlib"
   ]
  },
  {
   "cell_type": "markdown",
   "metadata": {},
   "source": [
    "Creating bar plots in Matplotlib is a straightforward way to visualize categorical data.><br>\n",
    " Matplotlib is a widely used plotting library in Python that provides flexible and customizable functionalities for creating various types of plots, including bar plots"
   ]
  },
  {
   "cell_type": "code",
   "execution_count": 6,
   "metadata": {},
   "outputs": [
    {
     "name": "stdout",
     "output_type": "stream",
     "text": [
      "   Unnamed: 0        Date  AveragePrice  Total Volume     4046       4225  \\\n",
      "0           0  2015-12-27          1.33      64236.62  1036.74   54454.85   \n",
      "1           1  2015-12-20          1.35      54876.98   674.28   44638.81   \n",
      "2           2  2015-12-13          0.93     118220.22   794.70  109149.67   \n",
      "3           3  2015-12-06          1.08      78992.15  1132.00   71976.41   \n",
      "4           4  2015-11-29          1.28      51039.60   941.48   43838.39   \n",
      "\n",
      "     4770  Total Bags  Small Bags  Large Bags  XLarge Bags          type  \\\n",
      "0   48.16     8696.87     8603.62       93.25          0.0  conventional   \n",
      "1   58.33     9505.56     9408.07       97.49          0.0  conventional   \n",
      "2  130.50     8145.35     8042.21      103.14          0.0  conventional   \n",
      "3   72.58     5811.16     5677.40      133.76          0.0  conventional   \n",
      "4   75.78     6183.95     5986.26      197.69          0.0  conventional   \n",
      "\n",
      "   year  region  \n",
      "0  2015  Albany  \n",
      "1  2015  Albany  \n",
      "2  2015  Albany  \n",
      "3  2015  Albany  \n",
      "4  2015  Albany  \n"
     ]
    },
    {
     "data": {
      "image/png": "[encoded data removed]",
      "text/plain": [
       "<Figure size 640x480 with 1 Axes>"
      ]
     },
     "metadata": {},
     "output_type": "display_data"
    }
   ],
   "source": [
    "'''Create a bar plot of the number of avocados sold by size'''\n",
    "\n",
    "# Import matplotlib.pyplot with alias plt\n",
    "import pandas as pd\n",
    "import matplotlib.pyplot as plt\n",
    "\n",
    "avocados = pd.read_csv('avocado.csv')\n",
    "# Look at the first few rows of data\n",
    "print(avocados.head())\n",
    "\n",
    "# Get the total number of avocados sold of each size\n",
    "nb_sold_by_type = avocados.groupby(\"region\")[\"Total Volume\"].sum()\n",
    "\n",
    "# Create a bar plot of the number of avocados sold by size\n",
    "nb_sold_by_type.plot(kind=\"bar\")\n",
    "\n",
    "# Show the plot\n",
    "plt.show()"
   ]
  },
  {
   "cell_type": "markdown",
   "metadata": {},
   "source": [
    "**Line Plots**<br>\n",
    "Line plots are designed to visualize the relationship between two numeric variables, where each data values is connected to the next one.<br>\n",
    " They are especially useful for visualizing the change in a number over time since each time point is naturally connected to the next time point."
   ]
  },
  {
   "cell_type": "code",
   "execution_count": 7,
   "metadata": {},
   "outputs": [
    {
     "data": {
      "image/png": "[encoded data removed]",
      "text/plain": [
       "<Figure size 640x480 with 1 Axes>"
      ]
     },
     "metadata": {},
     "output_type": "display_data"
    }
   ],
   "source": [
    "'''Create a line plot of the number of avocados sold.'''\n",
    "\n",
    "# Import matplotlib.pyplot with alias plt\n",
    "import matplotlib.pyplot as plt\n",
    "\n",
    "# Get the total number of avocados sold on each year\n",
    "nb_sold_by_date = avocados.groupby(\"Date\")[\"Total Volume\"].sum()\n",
    "\n",
    "# Create a line plot of the number of avocados sold by date\n",
    "nb_sold_by_date.plot(kind=\"line\")\n",
    "\n",
    "# Show the plot\n",
    "plt.show()"
   ]
  },
  {
   "cell_type": "markdown",
   "metadata": {},
   "source": [
    "**Scatter Plots**"
   ]
  },
  {
   "cell_type": "markdown",
   "metadata": {},
   "source": [
    "Scatter plots are ideal for visualizing relationships between numerical variables."
   ]
  },
  {
   "cell_type": "markdown",
   "metadata": {},
   "source": [
    "**Example**<br>\n",
    " In this exercise, you'll compare the number of avocados sold to average price and see if they're at all related.<br>\n",
    "  If they're related, you may be able to use one number to predict the other."
   ]
  },
  {
   "cell_type": "code",
   "execution_count": 33,
   "metadata": {},
   "outputs": [
    {
     "data": {
      "image/png": "[encoded data removed]",
      "text/plain": [
       "<Figure size 640x480 with 1 Axes>"
      ]
     },
     "metadata": {},
     "output_type": "display_data"
    }
   ],
   "source": [
    "import pandas as pd\n",
    "import matplotlib.pyplot as plt\n",
    "\n",
    "#DataFrame named 'avocados'\n",
    "data = {\n",
    "    'nb_sold': [100, 150, 80, 200, 120],\n",
    "    'avg_price': [1.5, 1.3, 1.8, 1.2, 1.6]\n",
    "}\n",
    "\n",
    "avocados = pd.DataFrame(data)\n",
    "\n",
    "# Scatter plot of avg_price vs. nb_sold with title\n",
    "plt.scatter(avocados[\"nb_sold\"], avocados[\"avg_price\"])\n",
    "plt.xlabel(\"Number of Avocados Sold\")\n",
    "plt.ylabel(\"Average Price\")\n",
    "plt.title(\"Number of Avocados Sold vs. Average Price\")\n",
    "\n",
    "# Show the plot\n",
    "plt.show()\n"
   ]
  },
  {
   "cell_type": "markdown",
   "metadata": {},
   "source": [
    "**Finding missing values**\n",
    "Missing values are everywhere, and you don't want them interfering with your work. Some functions ignore missing data by default, but that's not always the behavior you might want. Some functions can't handle missing values at all, so these values need to be taken care of before you can use them. If you don't know where your missing values are, or if they exist, you could make mistakes in your analysis. In this exercise, you'll determine if there are missing values in the dataset, and if so, how many.\n",
    "\n"
   ]
  },
  {
   "cell_type": "code",
   "execution_count": null,
   "metadata": {},
   "outputs": [],
   "source": [
    "'''Print a DataFrame that shows whether each value in avocados_2016 is missing or not.\n",
    "'''\n",
    "\n",
    "# Import matplotlib.pyplot with alias plt\n",
    "import matplotlib.pyplot as plt\n",
    "\n",
    "# Check individual values for missing values\n",
    "print(avocados.isna())\n",
    "\n",
    "\n",
    "'''Print a summary that shows whether any value in each column is missing or not.'''\n",
    "\n",
    "# Check each column for missing values\n",
    "print(avocados_2016.isna().any())\n",
    "\n",
    "# Count the number of missing values in each column\n",
    "print(avocados.isna().sum())\n",
    "\n",
    "'''Create a bar plot of the total number of missing values in each column.'''\n",
    "\n",
    "# Bar plot of missing values by variable\n",
    "avocados_2016.isna().sum().plot(kind=\"bar\")\n",
    "\n",
    "\n",
    "# Show plot\n",
    "plt.show()"
   ]
  },
  {
   "cell_type": "code",
   "execution_count": 25,
   "metadata": {},
   "outputs": [
    {
     "name": "stdout",
     "output_type": "stream",
     "text": [
      "['1960', '1961', '1962', '1963', '1964', '1965', '1966', '1967', '1968', '1969', '1970', '1971', '1972', '1973', '1974', '1975', '1976', '1977', '1978', '1979', '1980', '1981', '1982', '1983', '1984', '1985', '1986', '1987', '1988', '1989', '1990', '1991', '1992', '1993', '1994', '1995', '1996', '1997', '1998', '1999', '2000', '2001', '2002', '2003', '2004', '2005', '2006', '2007', '2008', '2009', '2010', '2011', '2012', '2013', '2014', '2015', '2016', '2017', '2018', '2019', '2020', '2021', '2022', 'Unnamed: 67']\n"
     ]
    }
   ],
   "source": [
    "import pandas as pd\n",
    "import matplotlib.pyplot as plt\n",
    "\n",
    "nigeria = pd.read_csv('ngdata.csv')\n",
    "\n",
    "print(nigeria.isna().sum())\n",
    "\n"
   ]
  },
  {
   "cell_type": "markdown",
   "metadata": {},
   "source": [
    "**Removing missing values**\n",
    "Now that you know there are some missing values in your DataFrame, you have a few options to deal with them. One way is to remove them from the dataset completely. In this exercise, you'll remove missing values by removing all rows that contain missing values"
   ]
  },
  {
   "cell_type": "code",
   "execution_count": null,
   "metadata": {},
   "outputs": [],
   "source": [
    "'''Remove the rows of avocados_2016 that contain missing values and store the remaining rows in avocados_complete.'''\n",
    "\n",
    "# Remove rows with missing values\n",
    "avocados_complete = avocados_2016.dropna()\n",
    "\n",
    "\n",
    "'''Verify that all missing values have been removed from avocados_complete. Calculate each column that has NAs and print.'''\n",
    "\n",
    "# Check if any columns contain missing values\n",
    "print(avocados_complete.isna().any())"
   ]
  },
  {
   "cell_type": "markdown",
   "metadata": {},
   "source": [
    "**Replacing Missing Values**<br>\n",
    "Another way of handling missing values is to replace them all with the same value. For numerical variables, one option is to replace values with 0— you'll do this here. However, when you replace missing values, you make assumptions about what a missing value means."
   ]
  },
  {
   "cell_type": "code",
   "execution_count": null,
   "metadata": {},
   "outputs": [],
   "source": [
    "#find all columns with missing values and create a list\n",
    "columns_with_missing = nigeria.columns[nigeria.isna().any()].tolist()\n",
    "\n",
    "print(columns_with_missing)\n",
    "\n",
    "# Fill in missing values with 0\n",
    "nigeria_filled = nigeria.fillna(0)\n",
    "\n",
    "print(nigeria_filled.head())\n",
    "\n",
    "nigeria_filled.to_csv('nigeria_filled.csv', index=False)"
   ]
  }
 ],
 "metadata": {
  "kernelspec": {
   "display_name": "Python 3 (ipykernel)",
   "language": "python",
   "name": "python3"
  },
  "language_info": {
   "codemirror_mode": {
    "name": "ipython",
    "version": 3
   },
   "file_extension": ".py",
   "mimetype": "text/x-python",
   "name": "python",
   "nbconvert_exporter": "python",
   "pygments_lexer": "ipython3",
   "version": "3.9.13"
  }
 },
 "nbformat": 4,
 "nbformat_minor": 2
}
